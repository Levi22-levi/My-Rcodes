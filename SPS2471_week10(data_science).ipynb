{
  "nbformat": 4,
  "nbformat_minor": 0,
  "metadata": {
    "colab": {
      "provenance": [],
      "authorship_tag": "ABX9TyPdBZBL3B47F0+MeVluNpV7",
      "include_colab_link": true
    },
    "kernelspec": {
      "name": "python3",
      "display_name": "Python 3"
    },
    "language_info": {
      "name": "python"
    }
  },
  "cells": [
    {
      "cell_type": "markdown",
      "metadata": {
        "id": "view-in-github",
        "colab_type": "text"
      },
      "source": [
        "<a href=\"https://colab.research.google.com/github/Levi22-levi/My-Rcodes/blob/main/SPS2471_week10(data_science).ipynb\" target=\"_parent\"><img src=\"https://colab.research.google.com/assets/colab-badge.svg\" alt=\"Open In Colab\"/></a>"
      ]
    },
    {
      "cell_type": "code",
      "execution_count": 1,
      "metadata": {
        "colab": {
          "base_uri": "https://localhost:8080/"
        },
        "id": "gLUPLFCyhe70",
        "outputId": "907f8002-20c3-4ab5-9751-29bcf1aaa882"
      },
      "outputs": [
        {
          "output_type": "stream",
          "name": "stdout",
          "text": [
            "3\n",
            "['Kenya', 'South Sudan', 'Cameroon', 'Ivory Coast', 'Rwanda']\n",
            "('Kenya', 'South Sudan', 'Cameroon', 'Ivory Coast', 'Rwanda')\n",
            "['Kenya', 'South Sudan', 'Cameroon', 'Ivory Coast', 'Rwanda', ['Kenya']]\n",
            "['Kenya', 'South Sudan', 'Cameroon', 'Ivory Coast', 'Rwanda']\n",
            "<class 'range'><class 'range'><class 'range'><class 'range'><class 'range'>['Kenya', 'South', 'Cameroon', 'Ivory', 'Rwanda']\n",
            "['Kenya', 'Cameroon', 'Ivory Coast', 'Rwanda']\n",
            "['South Sudan']\n"
          ]
        }
      ],
      "source": [
        "print(round(3.256))\n",
        "countries = ['Kenya','South Sudan' ,'Cameroon','Ivory Coast','Rwanda']\n",
        "print(countries)\n",
        "countriesT = ('Kenya','South Sudan' ,'Cameroon','Ivory Coast','Rwanda')\n",
        "print(countriesT)\n",
        "countries.append(['Kenya'])\n",
        "print(countries)\n",
        "\n",
        "countries.remove(countries[len(countries)-1])\n",
        "print(countries)\n",
        "for i in range(len(countries)) :\n",
        "    print(range,end=\"\")\n",
        "\n",
        "new_list = [string.split()[0] for string in countries]\n",
        "print(new_list)\n",
        "\n",
        "countries_one = []\n",
        "countries_two = []\n",
        "for i in range(len(countries)):\n",
        "    if 'u' in countries[i]:\n",
        "        countries_two.append(countries[i])\n",
        "    else:\n",
        "        countries_one.append(countries[i])\n",
        "print(countries_one)\n",
        "print(countries_two)\n"
      ]
    }
  ]
}